{
 "cells": [
  {
   "cell_type": "markdown",
   "metadata": {},
   "source": [
    "# Principales étapes de la gestion de données issues de serveurs Web d'un log file:\n",
    "\n",
    "1. Concaténer les fichiers de la base de données en utilisant la méthode concat().\n",
    "2. Nettoyer les données:    \n",
    "         2.1. nous vérifions qu'il n'y a pas de lignes NULL dans notre base de données.\n",
    "         2.2. La deuxième étape est la suppression du contenu graphique (audio, video, images).\n",
    "3. Faire des statistiques sur la base de données néttoyée.   "
   ]
  },
  {
   "cell_type": "code",
   "execution_count": 2,
   "metadata": {},
   "outputs": [],
   "source": [
    "import pandas as pd "
   ]
  },
  {
   "cell_type": "code",
   "execution_count": 3,
   "metadata": {
    "scrolled": true
   },
   "outputs": [],
   "source": [
    "#concaténation des 4 fichiers csv de la base de donnés\n",
    "allFiles = [r'/home/omar/Projet python/part-00000.csv'\n",
    "            ,r'/home/omar/Projet python/part-00001.csv'\n",
    "            ,r'/home/omar/Projet python/part-00002.csv'\n",
    "            ,r'/home/omar/Projet python/part-00003.csv'\n",
    "            ,r'/home/omar/Projet python/part-00004.csv']\n",
    "\n",
    "list_ = []\n",
    "\n",
    "for file_ in allFiles:\n",
    "    df = pd.read_csv(file_,index_col=None, header=0)\n",
    "    list_.append(df)\n",
    "\n",
    "df = pd.concat(list_, axis = 0, ignore_index = True)"
   ]
  },
  {
   "cell_type": "code",
   "execution_count": 4,
   "metadata": {},
   "outputs": [
    {
     "data": {
      "text/html": [
       "<div>\n",
       "<table border=\"1\" class=\"dataframe\">\n",
       "  <thead>\n",
       "    <tr style=\"text-align: right;\">\n",
       "      <th></th>\n",
       "      <th>Host</th>\n",
       "      <th>End_point</th>\n",
       "      <th>Method</th>\n",
       "      <th>Response_code</th>\n",
       "      <th>Date-time</th>\n",
       "      <th>Content_size</th>\n",
       "      <th>Protol</th>\n",
       "    </tr>\n",
       "  </thead>\n",
       "  <tbody>\n",
       "    <tr>\n",
       "      <th>0</th>\n",
       "      <td>in24.inetnebr.com</td>\n",
       "      <td>/shuttle/missions/sts-68/news/sts-68-mcc-05.txt</td>\n",
       "      <td>GET</td>\n",
       "      <td>200</td>\n",
       "      <td>1995-08-01 00:00:01</td>\n",
       "      <td>1839</td>\n",
       "      <td>HTTP/1.0</td>\n",
       "    </tr>\n",
       "    <tr>\n",
       "      <th>1</th>\n",
       "      <td>uplherc.upl.com</td>\n",
       "      <td>/</td>\n",
       "      <td>GET</td>\n",
       "      <td>304</td>\n",
       "      <td>1995-08-01 00:00:07</td>\n",
       "      <td>0</td>\n",
       "      <td>HTTP/1.0</td>\n",
       "    </tr>\n",
       "    <tr>\n",
       "      <th>2</th>\n",
       "      <td>uplherc.upl.com</td>\n",
       "      <td>/images/ksclogo-medium.gif</td>\n",
       "      <td>GET</td>\n",
       "      <td>304</td>\n",
       "      <td>1995-08-01 00:00:08</td>\n",
       "      <td>0</td>\n",
       "      <td>HTTP/1.0</td>\n",
       "    </tr>\n",
       "    <tr>\n",
       "      <th>3</th>\n",
       "      <td>uplherc.upl.com</td>\n",
       "      <td>/images/MOSAIC-logosmall.gif</td>\n",
       "      <td>GET</td>\n",
       "      <td>304</td>\n",
       "      <td>1995-08-01 00:00:08</td>\n",
       "      <td>0</td>\n",
       "      <td>HTTP/1.0</td>\n",
       "    </tr>\n",
       "    <tr>\n",
       "      <th>4</th>\n",
       "      <td>uplherc.upl.com</td>\n",
       "      <td>/images/USA-logosmall.gif</td>\n",
       "      <td>GET</td>\n",
       "      <td>304</td>\n",
       "      <td>1995-08-01 00:00:08</td>\n",
       "      <td>0</td>\n",
       "      <td>HTTP/1.0</td>\n",
       "    </tr>\n",
       "    <tr>\n",
       "      <th>5</th>\n",
       "      <td>ix-esc-ca2-07.ix.netcom.com</td>\n",
       "      <td>/images/launch-logo.gif</td>\n",
       "      <td>GET</td>\n",
       "      <td>200</td>\n",
       "      <td>1995-08-01 00:00:09</td>\n",
       "      <td>1713</td>\n",
       "      <td>HTTP/1.0</td>\n",
       "    </tr>\n",
       "    <tr>\n",
       "      <th>6</th>\n",
       "      <td>uplherc.upl.com</td>\n",
       "      <td>/images/WORLD-logosmall.gif</td>\n",
       "      <td>GET</td>\n",
       "      <td>304</td>\n",
       "      <td>1995-08-01 00:00:10</td>\n",
       "      <td>0</td>\n",
       "      <td>HTTP/1.0</td>\n",
       "    </tr>\n",
       "    <tr>\n",
       "      <th>7</th>\n",
       "      <td>slppp6.intermind.net</td>\n",
       "      <td>/history/skylab/skylab.html</td>\n",
       "      <td>GET</td>\n",
       "      <td>200</td>\n",
       "      <td>1995-08-01 00:00:10</td>\n",
       "      <td>1687</td>\n",
       "      <td>HTTP/1.0</td>\n",
       "    </tr>\n",
       "    <tr>\n",
       "      <th>8</th>\n",
       "      <td>piweba4y.prodigy.com</td>\n",
       "      <td>/images/launchmedium.gif</td>\n",
       "      <td>GET</td>\n",
       "      <td>200</td>\n",
       "      <td>1995-08-01 00:00:10</td>\n",
       "      <td>11853</td>\n",
       "      <td>HTTP/1.0</td>\n",
       "    </tr>\n",
       "    <tr>\n",
       "      <th>9</th>\n",
       "      <td>slppp6.intermind.net</td>\n",
       "      <td>/history/skylab/skylab-small.gif</td>\n",
       "      <td>GET</td>\n",
       "      <td>200</td>\n",
       "      <td>1995-08-01 00:00:11</td>\n",
       "      <td>9202</td>\n",
       "      <td>HTTP/1.0</td>\n",
       "    </tr>\n",
       "  </tbody>\n",
       "</table>\n",
       "</div>"
      ],
      "text/plain": [
       "                          Host  \\\n",
       "0            in24.inetnebr.com   \n",
       "1              uplherc.upl.com   \n",
       "2              uplherc.upl.com   \n",
       "3              uplherc.upl.com   \n",
       "4              uplherc.upl.com   \n",
       "5  ix-esc-ca2-07.ix.netcom.com   \n",
       "6              uplherc.upl.com   \n",
       "7         slppp6.intermind.net   \n",
       "8         piweba4y.prodigy.com   \n",
       "9         slppp6.intermind.net   \n",
       "\n",
       "                                         End_point Method  Response_code  \\\n",
       "0  /shuttle/missions/sts-68/news/sts-68-mcc-05.txt    GET            200   \n",
       "1                                                /    GET            304   \n",
       "2                       /images/ksclogo-medium.gif    GET            304   \n",
       "3                     /images/MOSAIC-logosmall.gif    GET            304   \n",
       "4                        /images/USA-logosmall.gif    GET            304   \n",
       "5                          /images/launch-logo.gif    GET            200   \n",
       "6                      /images/WORLD-logosmall.gif    GET            304   \n",
       "7                      /history/skylab/skylab.html    GET            200   \n",
       "8                         /images/launchmedium.gif    GET            200   \n",
       "9                 /history/skylab/skylab-small.gif    GET            200   \n",
       "\n",
       "             Date-time  Content_size    Protol  \n",
       "0  1995-08-01 00:00:01          1839  HTTP/1.0  \n",
       "1  1995-08-01 00:00:07             0  HTTP/1.0  \n",
       "2  1995-08-01 00:00:08             0  HTTP/1.0  \n",
       "3  1995-08-01 00:00:08             0  HTTP/1.0  \n",
       "4  1995-08-01 00:00:08             0  HTTP/1.0  \n",
       "5  1995-08-01 00:00:09          1713  HTTP/1.0  \n",
       "6  1995-08-01 00:00:10             0  HTTP/1.0  \n",
       "7  1995-08-01 00:00:10          1687  HTTP/1.0  \n",
       "8  1995-08-01 00:00:10         11853  HTTP/1.0  \n",
       "9  1995-08-01 00:00:11          9202  HTTP/1.0  "
      ]
     },
     "execution_count": 4,
     "metadata": {},
     "output_type": "execute_result"
    }
   ],
   "source": [
    "df.head(10)"
   ]
  },
  {
   "cell_type": "code",
   "execution_count": 5,
   "metadata": {},
   "outputs": [
    {
     "data": {
      "image/png": "[encoded data removed]",
      "text/plain": [
       "<Figure size 1080x432 with 1 Axes>"
      ]
     },
     "metadata": {
      "needs_background": "light"
     },
     "output_type": "display_data"
    }
   ],
   "source": [
    "#Nombre de visites par jour\n",
    "\n",
    "import matplotlib.pyplot as plt\n",
    "%matplotlib inline\n",
    "\n",
    "date_time=pd.to_datetime(df['Date-time'])\n",
    "g=date_time.dt.day\n",
    "hits=g.value_counts()\n",
    "hits_counts=[hits[i] for i in range(1,32) if i!=2]\n",
    "DataFrame= pd.DataFrame({'Jours':[i for i in range(30)],\n",
    "    'visites':hits_counts}).plot.bar(x='Jours',y='visites',color='lightskyblue',\n",
    "                                     figsize=(15, 6), rot=0)\n",
    "plt.title('Nombre de visites par jour', fontsize=16)\n",
    "plt.show()"
   ]
  },
  {
   "cell_type": "code",
   "execution_count": 6,
   "metadata": {},
   "outputs": [
    {
     "data": {
      "text/html": [
       "<div>\n",
       "<table border=\"1\" class=\"dataframe\">\n",
       "  <thead>\n",
       "    <tr style=\"text-align: right;\">\n",
       "      <th></th>\n",
       "      <th>Host</th>\n",
       "      <th>End_point</th>\n",
       "      <th>Method</th>\n",
       "      <th>Response_code</th>\n",
       "      <th>Date-time</th>\n",
       "      <th>Content_size</th>\n",
       "      <th>Protol</th>\n",
       "    </tr>\n",
       "  </thead>\n",
       "  <tbody>\n",
       "    <tr>\n",
       "      <th>0</th>\n",
       "      <td>in24.inetnebr.com</td>\n",
       "      <td>/shuttle/missions/sts-68/news/sts-68-mcc-05.txt</td>\n",
       "      <td>GET</td>\n",
       "      <td>200</td>\n",
       "      <td>1995-08-01 00:00:01</td>\n",
       "      <td>1839</td>\n",
       "      <td>HTTP/1.0</td>\n",
       "    </tr>\n",
       "    <tr>\n",
       "      <th>1</th>\n",
       "      <td>uplherc.upl.com</td>\n",
       "      <td>/</td>\n",
       "      <td>GET</td>\n",
       "      <td>304</td>\n",
       "      <td>1995-08-01 00:00:07</td>\n",
       "      <td>0</td>\n",
       "      <td>HTTP/1.0</td>\n",
       "    </tr>\n",
       "    <tr>\n",
       "      <th>2</th>\n",
       "      <td>uplherc.upl.com</td>\n",
       "      <td>/images/ksclogo-medium.gif</td>\n",
       "      <td>GET</td>\n",
       "      <td>304</td>\n",
       "      <td>1995-08-01 00:00:08</td>\n",
       "      <td>0</td>\n",
       "      <td>HTTP/1.0</td>\n",
       "    </tr>\n",
       "  </tbody>\n",
       "</table>\n",
       "</div>"
      ],
      "text/plain": [
       "                Host                                        End_point Method  \\\n",
       "0  in24.inetnebr.com  /shuttle/missions/sts-68/news/sts-68-mcc-05.txt    GET   \n",
       "1    uplherc.upl.com                                                /    GET   \n",
       "2    uplherc.upl.com                       /images/ksclogo-medium.gif    GET   \n",
       "\n",
       "   Response_code            Date-time  Content_size    Protol  \n",
       "0            200  1995-08-01 00:00:01          1839  HTTP/1.0  \n",
       "1            304  1995-08-01 00:00:07             0  HTTP/1.0  \n",
       "2            304  1995-08-01 00:00:08             0  HTTP/1.0  "
      ]
     },
     "execution_count": 6,
     "metadata": {},
     "output_type": "execute_result"
    }
   ],
   "source": [
    "#groupement du types de chaque requête \n",
    "get_request=df.loc[df['Method'] == 'GET']\n",
    "post_request=df.loc[df['Method'] == 'POST']\n",
    "head_request=df.loc[df['Method'] == 'HEAD']\n",
    "#Exemple\n",
    "get_request.head(3)"
   ]
  },
  {
   "cell_type": "code",
   "execution_count": 7,
   "metadata": {},
   "outputs": [
    {
     "data": {
      "image/png": "[encoded data removed]",
      "text/plain": [
       "<Figure size 576x1080 with 1 Axes>"
      ]
     },
     "metadata": {},
     "output_type": "display_data"
    }
   ],
   "source": [
    "import matplotlib.pyplot as plt\n",
    "%matplotlib inline\n",
    "plt.figure(figsize=(8,15),facecolor='white', edgecolor='white')\n",
    "colors = ['orange', 'black', 'lightcoral']\n",
    "values = [156903, 111,3965] \n",
    "explode=(0.1, 0.1,0.1) \n",
    "labels = ['get_request', 'post_request', 'head_request'] \n",
    "def make_autopct(values):\n",
    "    def my_autopct(pct):\n",
    "        total = sum(values)\n",
    "        val = int(round(pct*total/100.0))\n",
    "        return '{p:.2f}%  ({v:d})'.format(p=pct,v=val)\n",
    "    return my_autopct\n",
    "plt.pie(values, explode=explode,colors=colors ,autopct='%2.1f%%',\n",
    "        shadow=False, startangle=50)\n",
    "plt.legend(labels,loc=(1, 0.1), shadow=True)\n",
    "plt.title('pourcentage de chaque requête', fontsize=16)\n",
    "plt.show()"
   ]
  },
  {
   "cell_type": "code",
   "execution_count": 8,
   "metadata": {},
   "outputs": [
    {
     "name": "stdout",
     "output_type": "stream",
     "text": [
      "[(200, 1398207), (302, 26437), (304, 134138), (403, 171), (404, 10020), (500, 3), (501, 27)]\n"
     ]
    }
   ],
   "source": [
    "#nombre d'occurence de chacune des 'response_code'\n",
    "reponse=df.groupby('Response_code').size()\n",
    "print(list(zip(reponse.index,reponse.values)))"
   ]
  },
  {
   "cell_type": "code",
   "execution_count": 9,
   "metadata": {},
   "outputs": [
    {
     "name": "stdout",
     "output_type": "stream",
     "text": [
      "[200, 302, 304, 403, 404, 500, 501]\n",
      "[89.11436115800926, 1.684955350627118, 8.549250702516185, 0.010898640729176425, 0.6386221058850748, 0.00019120422331888467, 0.001720838009869962]\n"
     ]
    }
   ],
   "source": [
    "#conversion de la liste des tuple à deux listes comportent successivement indices et \n",
    "#les pourcentages des occurences\n",
    "labels = reponse.index.tolist()\n",
    "print(labels)\n",
    "count =len(df)\n",
    "fracs = list(reponse*100/count)\n",
    "print (fracs)"
   ]
  },
  {
   "cell_type": "code",
   "execution_count": 10,
   "metadata": {},
   "outputs": [
    {
     "data": {
      "image/png": "[encoded data removed]",
      "text/plain": [
       "<Figure size 720x720 with 1 Axes>"
      ]
     },
     "metadata": {},
     "output_type": "display_data"
    }
   ],
   "source": [
    "import matplotlib.pyplot as plt\n",
    "%matplotlib inline\n",
    "\n",
    "def pie_pct_format(value):   \n",
    "    return '' if value < 7 else '%.1f%%' % value\n",
    "\n",
    "\n",
    "fig = plt.figure(figsize=(10, 10), facecolor='white', edgecolor='white')\n",
    "colors = ['yellowgreen', 'lightskyblue', 'gold', 'purple',\n",
    "          'lightcoral', 'yellow', 'black']\n",
    "explode = (0.05, 0, 0, 0, 0, 0, 0)\n",
    "patches, texts, autotexts = plt.pie(fracs, labels=labels, colors=colors,\n",
    "             explode=explode, autopct=pie_pct_format,shadow=False,  startangle=50)\n",
    "\n",
    "for text, autotext in zip(texts, autotexts):\n",
    "      if autotext.get_text() == '':\n",
    "        text.set_text('')  \n",
    "        \n",
    "\n",
    "plt.legend(labels, loc=(1, 0.1), shadow=True)\n",
    "plt.title(\"pourcentages des occurences des responses_code\",fontsize=15)\n",
    "plt.show()"
   ]
  },
  {
   "cell_type": "code",
   "execution_count": 11,
   "metadata": {},
   "outputs": [
    {
     "name": "stdout",
     "output_type": "stream",
     "text": [
      "Moyenne du Content Size : 17097, Min: 0, Max: 3421948\n"
     ]
    }
   ],
   "source": [
    "#calcul de max min et la moyenne des tailles des contenus téléchargé sur la page\n",
    "#en utilisant map reduce.\n",
    "\n",
    "from functools import reduce\n",
    "\n",
    "\n",
    "content_sizes=df['Content_size'].tolist()\n",
    "print ('Moyenne du Content Size : %i, Min: %i, Max: %s' %(\n",
    "    reduce((lambda a, b : a + b),content_sizes) / len(content_sizes),\n",
    "    min(content_sizes),\n",
    "    max(content_sizes)))"
   ]
  },
  {
   "cell_type": "code",
   "execution_count": 12,
   "metadata": {},
   "outputs": [
    {
     "data": {
      "text/html": [
       "<div>\n",
       "<table border=\"1\" class=\"dataframe\">\n",
       "  <thead>\n",
       "    <tr style=\"text-align: right;\">\n",
       "      <th></th>\n",
       "      <th>Content_size</th>\n",
       "      <th>End_point</th>\n",
       "    </tr>\n",
       "  </thead>\n",
       "  <tbody>\n",
       "    <tr>\n",
       "      <th>0</th>\n",
       "      <td>721172</td>\n",
       "      <td>/ksc.html</td>\n",
       "    </tr>\n",
       "    <tr>\n",
       "      <th>1</th>\n",
       "      <td>169344</td>\n",
       "      <td>/images/MOSAIC-logosmall.gif</td>\n",
       "    </tr>\n",
       "    <tr>\n",
       "      <th>2</th>\n",
       "      <td>169345</td>\n",
       "      <td>/images/USA-logosmall.gif</td>\n",
       "    </tr>\n",
       "    <tr>\n",
       "      <th>3</th>\n",
       "      <td>169346</td>\n",
       "      <td>/images/WORLD-logosmall.gif</td>\n",
       "    </tr>\n",
       "    <tr>\n",
       "      <th>4</th>\n",
       "      <td>169347</td>\n",
       "      <td>/shuttle/missions/sts-69/mission-sts-69.html</td>\n",
       "    </tr>\n",
       "    <tr>\n",
       "      <th>5</th>\n",
       "      <td>993908</td>\n",
       "      <td>/shuttle/missions/sts-69/sts-69-patch-small.gif</td>\n",
       "    </tr>\n",
       "    <tr>\n",
       "      <th>6</th>\n",
       "      <td>169349</td>\n",
       "      <td>/shuttle/missions/sts-69/sts-69-patch-small.gif</td>\n",
       "    </tr>\n",
       "    <tr>\n",
       "      <th>7</th>\n",
       "      <td>169350</td>\n",
       "      <td>/images/KSC-logosmall.gif</td>\n",
       "    </tr>\n",
       "    <tr>\n",
       "      <th>8</th>\n",
       "      <td>169351</td>\n",
       "      <td>/images/launch-logo.gif</td>\n",
       "    </tr>\n",
       "    <tr>\n",
       "      <th>9</th>\n",
       "      <td>169352</td>\n",
       "      <td>/history/apollo/images/apollo-logo1.gif</td>\n",
       "    </tr>\n",
       "  </tbody>\n",
       "</table>\n",
       "</div>"
      ],
      "text/plain": [
       "   Content_size                                        End_point\n",
       "0        721172                                        /ksc.html\n",
       "1        169344                     /images/MOSAIC-logosmall.gif\n",
       "2        169345                        /images/USA-logosmall.gif\n",
       "3        169346                      /images/WORLD-logosmall.gif\n",
       "4        169347     /shuttle/missions/sts-69/mission-sts-69.html\n",
       "5        993908  /shuttle/missions/sts-69/sts-69-patch-small.gif\n",
       "6        169349  /shuttle/missions/sts-69/sts-69-patch-small.gif\n",
       "7        169350                        /images/KSC-logosmall.gif\n",
       "8        169351                          /images/launch-logo.gif\n",
       "9        169352          /history/apollo/images/apollo-logo1.gif"
      ]
     },
     "execution_count": 12,
     "metadata": {},
     "output_type": "execute_result"
    }
   ],
   "source": [
    "#Top 10  End_points selon contenu téléchargé \n",
    "end_point=df.sort_values('Content_size')['End_point'].head(10)\n",
    "end_point.index.name='Content_size'\n",
    "end_point.to_frame().reset_index()"
   ]
  },
  {
   "cell_type": "code",
   "execution_count": 13,
   "metadata": {},
   "outputs": [
    {
     "data": {
      "text/html": [
       "<div>\n",
       "<table border=\"1\" class=\"dataframe\">\n",
       "  <thead>\n",
       "    <tr style=\"text-align: right;\">\n",
       "      <th></th>\n",
       "      <th>End_point</th>\n",
       "      <th>number of access</th>\n",
       "    </tr>\n",
       "  </thead>\n",
       "  <tbody>\n",
       "    <tr>\n",
       "      <th>0</th>\n",
       "      <td>/images/NASA-logosmall.gif</td>\n",
       "      <td>97384</td>\n",
       "    </tr>\n",
       "    <tr>\n",
       "      <th>1</th>\n",
       "      <td>/images/KSC-logosmall.gif</td>\n",
       "      <td>75332</td>\n",
       "    </tr>\n",
       "    <tr>\n",
       "      <th>2</th>\n",
       "      <td>/images/MOSAIC-logosmall.gif</td>\n",
       "      <td>67441</td>\n",
       "    </tr>\n",
       "    <tr>\n",
       "      <th>3</th>\n",
       "      <td>/images/USA-logosmall.gif</td>\n",
       "      <td>67061</td>\n",
       "    </tr>\n",
       "    <tr>\n",
       "      <th>4</th>\n",
       "      <td>/images/WORLD-logosmall.gif</td>\n",
       "      <td>66437</td>\n",
       "    </tr>\n",
       "    <tr>\n",
       "      <th>5</th>\n",
       "      <td>/images/ksclogo-medium.gif</td>\n",
       "      <td>62771</td>\n",
       "    </tr>\n",
       "    <tr>\n",
       "      <th>6</th>\n",
       "      <td>/ksc.html</td>\n",
       "      <td>43683</td>\n",
       "    </tr>\n",
       "    <tr>\n",
       "      <th>7</th>\n",
       "      <td>/history/apollo/images/apollo-logo1.gif</td>\n",
       "      <td>37824</td>\n",
       "    </tr>\n",
       "    <tr>\n",
       "      <th>8</th>\n",
       "      <td>/images/launch-logo.gif</td>\n",
       "      <td>35135</td>\n",
       "    </tr>\n",
       "    <tr>\n",
       "      <th>9</th>\n",
       "      <td>/</td>\n",
       "      <td>30327</td>\n",
       "    </tr>\n",
       "  </tbody>\n",
       "</table>\n",
       "</div>"
      ],
      "text/plain": [
       "                                 End_point  number of access\n",
       "0               /images/NASA-logosmall.gif             97384\n",
       "1                /images/KSC-logosmall.gif             75332\n",
       "2             /images/MOSAIC-logosmall.gif             67441\n",
       "3                /images/USA-logosmall.gif             67061\n",
       "4              /images/WORLD-logosmall.gif             66437\n",
       "5               /images/ksclogo-medium.gif             62771\n",
       "6                                /ksc.html             43683\n",
       "7  /history/apollo/images/apollo-logo1.gif             37824\n",
       "8                  /images/launch-logo.gif             35135\n",
       "9                                        /             30327"
      ]
     },
     "execution_count": 13,
     "metadata": {},
     "output_type": "execute_result"
    }
   ],
   "source": [
    "#Top 10  End_points selon l'acces\n",
    "topEndpoints=df['End_point'].value_counts().head(10)\n",
    "topEndpoints.index.name='End_point'\n",
    "topEndpoints.to_frame('number of access').reset_index()"
   ]
  },
  {
   "cell_type": "code",
   "execution_count": 14,
   "metadata": {},
   "outputs": [],
   "source": [
    "#suppression du contenu graphique\n",
    "not_graphic=[]\n",
    "extention=['.gif','.png','.jpg']\n",
    "for i in df.End_point:\n",
    "    if i[-4:] not in extention:\n",
    "        not_graphic.append(True)\n",
    "    else :not_graphic.append(False)"
   ]
  },
  {
   "cell_type": "code",
   "execution_count": 15,
   "metadata": {},
   "outputs": [],
   "source": [
    "non_graphique=pd.Series(not_graphic)"
   ]
  },
  {
   "cell_type": "code",
   "execution_count": 16,
   "metadata": {},
   "outputs": [],
   "source": [
    "#dataframe sans contenu graphique\n",
    "dataframe=df[non_graphique]"
   ]
  },
  {
   "cell_type": "code",
   "execution_count": 17,
   "metadata": {},
   "outputs": [
    {
     "data": {
      "text/html": [
       "<div>\n",
       "<table border=\"1\" class=\"dataframe\">\n",
       "  <thead>\n",
       "    <tr style=\"text-align: right;\">\n",
       "      <th></th>\n",
       "      <th>End_point</th>\n",
       "      <th>number of access</th>\n",
       "    </tr>\n",
       "  </thead>\n",
       "  <tbody>\n",
       "    <tr>\n",
       "      <th>0</th>\n",
       "      <td>/ksc.html</td>\n",
       "      <td>43683</td>\n",
       "    </tr>\n",
       "    <tr>\n",
       "      <th>1</th>\n",
       "      <td>/</td>\n",
       "      <td>30327</td>\n",
       "    </tr>\n",
       "    <tr>\n",
       "      <th>2</th>\n",
       "      <td>/shuttle/missions/sts-69/mission-sts-69.html</td>\n",
       "      <td>24606</td>\n",
       "    </tr>\n",
       "    <tr>\n",
       "      <th>3</th>\n",
       "      <td>/shuttle/countdown/</td>\n",
       "      <td>24458</td>\n",
       "    </tr>\n",
       "    <tr>\n",
       "      <th>4</th>\n",
       "      <td>/shuttle/missions/missions.html</td>\n",
       "      <td>22451</td>\n",
       "    </tr>\n",
       "    <tr>\n",
       "      <th>5</th>\n",
       "      <td>/htbin/cdt_main.pl</td>\n",
       "      <td>17245</td>\n",
       "    </tr>\n",
       "    <tr>\n",
       "      <th>6</th>\n",
       "      <td>/icons/menu.xbm</td>\n",
       "      <td>12137</td>\n",
       "    </tr>\n",
       "    <tr>\n",
       "      <th>7</th>\n",
       "      <td>/icons/blank.xbm</td>\n",
       "      <td>12057</td>\n",
       "    </tr>\n",
       "    <tr>\n",
       "      <th>8</th>\n",
       "      <td>/software/winvn/winvn.html</td>\n",
       "      <td>10345</td>\n",
       "    </tr>\n",
       "    <tr>\n",
       "      <th>9</th>\n",
       "      <td>/icons/image.xbm</td>\n",
       "      <td>10308</td>\n",
       "    </tr>\n",
       "  </tbody>\n",
       "</table>\n",
       "</div>"
      ],
      "text/plain": [
       "                                      End_point  number of access\n",
       "0                                     /ksc.html             43683\n",
       "1                                             /             30327\n",
       "2  /shuttle/missions/sts-69/mission-sts-69.html             24606\n",
       "3                           /shuttle/countdown/             24458\n",
       "4               /shuttle/missions/missions.html             22451\n",
       "5                            /htbin/cdt_main.pl             17245\n",
       "6                               /icons/menu.xbm             12137\n",
       "7                              /icons/blank.xbm             12057\n",
       "8                    /software/winvn/winvn.html             10345\n",
       "9                              /icons/image.xbm             10308"
      ]
     },
     "execution_count": 17,
     "metadata": {},
     "output_type": "execute_result"
    }
   ],
   "source": [
    "## Top 10  End_points selon contenu téléchargé(avec l'exclusion du contenu graphique) \n",
    "topEndpoints=dataframe['End_point'].value_counts().head(10)\n",
    "topEndpoints.index.name='End_point'\n",
    "topEndpoints.to_frame('number of access').reset_index()"
   ]
  },
  {
   "cell_type": "code",
   "execution_count": null,
   "metadata": {},
   "outputs": [],
   "source": []
  }
 ],
 "metadata": {
  "kernelspec": {
   "display_name": "Python 3",
   "language": "python",
   "name": "python3"
  },
  "language_info": {
   "codemirror_mode": {
    "name": "ipython",
    "version": 3
   },
   "file_extension": ".py",
   "mimetype": "text/x-python",
   "name": "python",
   "nbconvert_exporter": "python",
   "pygments_lexer": "ipython3",
   "version": "3.5.2"
  }
 },
 "nbformat": 4,
 "nbformat_minor": 2
}
